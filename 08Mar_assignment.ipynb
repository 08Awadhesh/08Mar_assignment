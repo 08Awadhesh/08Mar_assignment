{
 "cells": [
  {
   "cell_type": "markdown",
   "id": "5411178e-5489-43ea-98f3-0e249b63d1f1",
   "metadata": {},
   "source": [
    "**Q1.** What is the Probability density function?\n",
    "\n",
    "**Answer**:The probability density function (PDF) is a fundamental concept in probability theory and statistics. It is used to describe the likelihood of a continuous random variable taking on a specific value within a given range.\n",
    "\n",
    "The PDF, denoted as f(x), assigns a non-negative value to each possible value x of a continuous random variable. The PDF represents the relative likelihood of observing a specific value of the random variable. The area under the PDF curve over a certain range of values represents the probability of the random variable falling within that range.\n",
    "\n",
    "The PDF must satisfy two properties:\n",
    "\n",
    "Non-negativity: The PDF is non-negative for all values of x.\n",
    "\n",
    "Total area under the curve: The total area under the PDF curve over the entire range of possible values is equal to 1.\n",
    "Mathematically, the PDF can be used to determine the probability of a random variable falling within a certain range. This is done by integrating the PDF over that range."
   ]
  },
  {
   "cell_type": "markdown",
   "id": "2995482d-bcfc-44ea-9f3c-87648b991727",
   "metadata": {},
   "source": [
    "**Q2.**  What are the types of Probability distribution?\n",
    "\n",
    "**Answer**:There are several types of probability distributions, each with its own characteristics and applications. Here are some commonly encountered probability distributions:\n",
    "\n",
    "**Uniform Distribution:** In a uniform distribution, all outcomes within a given range are equally likely. The PDF is a constant within the range and zero outside of it. Examples include rolling a fair die or selecting a random number from a range.\n",
    "\n",
    "**Normal Distribution (Gaussian Distribution)**: The normal distribution is a symmetric bell-shaped distribution that is widely used in statistics. It is characterized by its mean and standard deviation. Many real-world phenomena, such as heights and IQ scores, tend to follow a normal distribution.\n",
    "\n",
    "**Binomial Distribution:** The binomial distribution models the number of successes in a fixed number of independent Bernoulli trials. Each trial has two possible outcomes (success or failure) with a fixed probability of success. It is commonly used in situations with binary outcomes, such as coin flips or the success rate of a manufacturing process.\n",
    "\n",
    "**Poisson Distribution:** The Poisson distribution is used to model the number of events that occur within a fixed interval of time or space. It is often employed in scenarios where events occur randomly and independently, such as the number of phone calls received in a call center in a given time period.\n",
    "\n",
    "**Exponential Distribution:** The exponential distribution describes the time between events in a Poisson process, where events occur randomly and independently at a constant average rate. It is commonly used to model the lifetimes of electronic components or the time between arrivals of customers at a service counter.\n",
    "\n",
    "**Gamma Distribution:** The gamma distribution is a versatile distribution that generalizes both the exponential distribution and the chi-squared distribution. It is often used to model waiting times, survival analysis, and reliability.\n",
    "\n",
    "**Chi-Squared Distribution**: The chi-squared distribution arises in the context of hypothesis testing and is used to model the sum of squared standard normal random variables."
   ]
  },
  {
   "cell_type": "markdown",
   "id": "88045a1a-b319-4bd7-92a3-2dc7a443a480",
   "metadata": {},
   "source": [
    "**Q3.** Write a Python function to calculate the probability density function of a normal distribution with\n",
    "given mean and standard deviation at a given point.\n",
    "\n",
    "**Answer**:"
   ]
  },
  {
   "cell_type": "code",
   "execution_count": 4,
   "id": "2e4caa7f-0f10-4a69-84eb-58eba4532f1f",
   "metadata": {},
   "outputs": [],
   "source": [
    "import math\n",
    "\n",
    "def normal_pdf(x, mean, std_dev):\n",
    "    coefficient = 1 / (std_dev * math.sqrt(2 * math.pi))\n",
    "    exponent = -0.5 * ((x - mean) / std_dev) ** 2\n",
    "    pdf = coefficient * math.exp(exponent)\n",
    "    return pdf\n"
   ]
  },
  {
   "cell_type": "code",
   "execution_count": 5,
   "id": "19e5c94b-971b-406d-904a-fee831cd061e",
   "metadata": {},
   "outputs": [
    {
     "name": "stdout",
     "output_type": "stream",
     "text": [
      "PDF at x = 1.5 is 0.12951759566589174\n"
     ]
    }
   ],
   "source": [
    "mean = 0\n",
    "std_dev = 1\n",
    "x = 1.5\n",
    "\n",
    "pdf = normal_pdf(x, mean, std_dev)\n",
    "print(\"PDF at x =\", x, \"is\", pdf)\n"
   ]
  },
  {
   "cell_type": "markdown",
   "id": "a35735a9-67b0-40d4-97eb-81864f2de633",
   "metadata": {},
   "source": [
    "**Q4.** What are the properties of Binomial distribution? Give two examples of events where binomial\n",
    "distribution can be applied.\n",
    "\n",
    "**Answer**: The binomial distribution has several properties that make it useful for modeling certain types of events. Here are the key properties of the binomial distribution:\n",
    "\n",
    "**(I) Fixed number of trials:** The binomial distribution models a fixed number of independent trials, denoted by 'n'. Each trial has two possible outcomes: success or failure.\n",
    "\n",
    "**(II) Independent trials:** The outcome of each trial is independent of the outcomes of other trials. This means that the probability of success remains the same for each trial.\n",
    "\n",
    "**(III) Constant probability of success:** The probability of success, denoted by 'p', remains constant across all trials. The probability of failure is given by q = 1 - p.\n",
    "\n",
    "**(IV) Discrete outcomes**: The binomial distribution deals with discrete outcomes. It calculates the probability of obtaining a specific number of successes ('k') in the fixed number of trials ('n').\n",
    "\n",
    "The binomial distribution can be applied to various real-world scenarios. Here are two examples:\n",
    "\n",
    "**(I) Coin Flips:** Consider flipping a fair coin multiple times. Each flip has two possible outcomes: heads (success) or tails (failure). The binomial distribution can be used to model the probability of obtaining a specific number of heads in a given number of flips.\n",
    "\n",
    "**(II) Quality Control:** Suppose a manufacturing process produces items that may be defective or non-defective. Each item produced can be considered a trial, with two outcomes: defective (success) or non-defective (failure). The binomial distribution can be used to calculate the probability of obtaining a certain number of defective items in a sample of a fixed size."
   ]
  },
  {
   "cell_type": "markdown",
   "id": "cd89d6de-fec9-421d-88e8-8d2329cd462b",
   "metadata": {},
   "source": [
    "**Q5**. Generate a random sample of size 1000 from a binomial distribution with probability of success 0.4\n",
    "and plot a histogram of the results using matplotlib.\n",
    "\n",
    "**Answer**:"
   ]
  },
  {
   "cell_type": "code",
   "execution_count": 6,
   "id": "df5e8fa0-8f76-48e1-8589-589dbba23e74",
   "metadata": {},
   "outputs": [
    {
     "data": {
      "image/png": "[encoded data removed]",
      "text/plain": [
       "<Figure size 640x480 with 1 Axes>"
      ]
     },
     "metadata": {},
     "output_type": "display_data"
    }
   ],
   "source": [
    "import numpy as np\n",
    "import matplotlib.pyplot as plt\n",
    "\n",
    "\n",
    "n = 1000  \n",
    "p = 0.4  \n",
    "\n",
    "\n",
    "sample = np.random.binomial(n, p, size=1000)\n",
    "\n",
    "\n",
    "plt.hist(sample, bins='auto', alpha=0.7, rwidth=0.85)\n",
    "plt.xlabel('Number of Successes')\n",
    "plt.ylabel('Frequency')\n",
    "plt.title('Histogram of Binomial Distribution')\n",
    "plt.grid(True)\n",
    "plt.show()"
   ]
  },
  {
   "cell_type": "markdown",
   "id": "356f6e02-a4f5-403c-ad3e-dd03e4d732ad",
   "metadata": {},
   "source": [
    "**Q6**. Write a Python function to calculate the cumulative distribution function of a Poisson distribution\n",
    "with given mean at a given point.\n",
    "\n",
    "**Answer**:"
   ]
  },
  {
   "cell_type": "code",
   "execution_count": 7,
   "id": "03995ac3-0e25-45a8-a6d4-850f57a2b570",
   "metadata": {},
   "outputs": [],
   "source": [
    "import math\n",
    "\n",
    "def poisson_cdf(k, mean):\n",
    "    cdf = 0.0\n",
    "    for i in range(k + 1):\n",
    "        cdf += math.exp(-mean) * (mean ** i) / math.factorial(i)\n",
    "    return cdf\n"
   ]
  },
  {
   "cell_type": "code",
   "execution_count": 8,
   "id": "491fe267-a37b-4859-a124-88ba4070b96d",
   "metadata": {},
   "outputs": [
    {
     "name": "stdout",
     "output_type": "stream",
     "text": [
      "CDF at k = 4 is 0.8911780189141512\n"
     ]
    }
   ],
   "source": [
    "mean = 2.5\n",
    "k = 4\n",
    "\n",
    "cdf = poisson_cdf(k, mean)\n",
    "print(\"CDF at k =\", k, \"is\", cdf)\n"
   ]
  },
  {
   "cell_type": "markdown",
   "id": "dacccef9-00a4-4126-954d-7769507b7a08",
   "metadata": {},
   "source": [
    "**Q7**. How Binomial distribution different from Poisson distribution?\n",
    "\n",
    "**Answer**:\n",
    "\n",
    "The binomial distribution and the Poisson distribution are both probability distributions commonly used to model events with discrete outcomes. However, they have distinct characteristics and are applicable to different types of scenarios.\n",
    "\n",
    "**(I) Number of Trials:**\n",
    "\n",
    "Binomial Distribution: The binomial distribution models a fixed number of independent trials, denoted by 'n'. Each trial has two possible outcomes: \n",
    "success or failure.\n",
    "\n",
    "Poisson Distribution: The Poisson distribution does not involve a fixed number of trials. It models the number of events occurring in a fixed interval of time or space.\n",
    "\n",
    "**(II) Probability of Success:**\n",
    "\n",
    "Binomial Distribution: The binomial distribution assumes a constant probability of success, denoted by 'p', for each trial. The probability of failure is given by q = 1 - p.\n",
    "\n",
    "Poisson Distribution: The Poisson distribution does not involve a probability of success or failure. Instead, it models the rate of events occurring in a given interval. The parameter of the Poisson distribution is lambda (λ), which represents the average rate of event occurrence.\n",
    "\n",
    "**(III) Type of Outcomes:**\n",
    "\n",
    "Binomial Distribution: The binomial distribution deals with discrete outcomes, such as the number of successes in a fixed number of trials. The outcomes are counted values (0, 1, 2, ..., n).\n",
    "\n",
    "Poisson Distribution: The Poisson distribution also deals with discrete outcomes, specifically counting the number of events occurring within a fixed interval. The outcomes are non-negative integers (0, 1, 2, ...).\n",
    "\n",
    "**(IV) Assumptions:**\n",
    "\n",
    "Binomial Distribution: The binomial distribution assumes that each trial is independent of the others. The probability of success remains constant across trials.\n",
    "\n",
    "Poisson Distribution: The Poisson distribution assumes that events occur randomly and independently in a fixed interval. The average rate of event occurrence is consistent throughout the interval."
   ]
  },
  {
   "cell_type": "markdown",
   "id": "15b6327d-0b02-4b7d-b573-dd605a101c08",
   "metadata": {},
   "source": [
    "**Q8.** Generate a random sample of size 1000 from a Poisson distribution with mean 5 and calculate the\n",
    "sample mean and variance.\n",
    "\n",
    "**Answer**:"
   ]
  },
  {
   "cell_type": "code",
   "execution_count": 10,
   "id": "83475c6a-1027-400f-aaa9-543e2dbe42d7",
   "metadata": {},
   "outputs": [
    {
     "name": "stdout",
     "output_type": "stream",
     "text": [
      "Sample Mean: 4.963\n",
      "Sample Variance: 4.943630999999999\n"
     ]
    }
   ],
   "source": [
    "import numpy as np\n",
    "mean = 5\n",
    "sample_size = 1000\n",
    "sample = np.random.poisson(mean, size=sample_size)\n",
    "sample_mean = np.mean(sample)\n",
    "sample_variance = np.var(sample)\n",
    "\n",
    "print(\"Sample Mean:\", sample_mean)\n",
    "print(\"Sample Variance:\", sample_variance)\n"
   ]
  },
  {
   "cell_type": "markdown",
   "id": "a25497d6-a233-4351-b140-19e78336ac3a",
   "metadata": {},
   "source": [
    "**Q9.** How mean and variance are related in Binomial distribution and Poisson distribution?\n",
    "\n",
    "**Answer**: In both the binomial distribution and the Poisson distribution, the mean and variance are related, but the nature of their relationship differs.\n",
    "\n",
    "**For the binomial distribution:**\n",
    "\n",
    "Mean: The mean of a binomial distribution is given by μ = n * p, where n is the number of trials and p is the probability of success in each trial.\n",
    "\n",
    "Variance: The variance of a binomial distribution is given by σ^2 = n * p * (1 - p).\n",
    "\n",
    "From this relationship, it can be observed that as the number of trials (n) increases or the probability of success (p) increases, the mean of the binomial distribution increases. The variance of the binomial distribution depends on both the number of trials and the probability of success. When the probability of success is small or large, the variance tends to be smaller. However, when the probability of success is near 0.5, the variance is maximized.\n",
    "\n",
    "**For the Poisson distribution:**\n",
    "\n",
    "Mean: The mean of a Poisson distribution is denoted by λ (lambda) and represents the average rate of event occurrence within a fixed interval.\n",
    "\n",
    "Variance: The variance of a Poisson distribution is also given by λ (lambda).\n",
    "\n",
    "In the case of the Poisson distribution, the mean and variance are equal, which is a unique property of the Poisson distribution. This means that the spread of the distribution is directly related to the mean. As the mean of the Poisson distribution increases, the distribution becomes more spread out."
   ]
  },
  {
   "cell_type": "markdown",
   "id": "89648ce9-24bf-4fe7-b454-442a5c545d95",
   "metadata": {},
   "source": [
    "**Q10.** In normal distribution with respect to mean position, where does the least frequent data appear?\n",
    "\n",
    "**Answer**: In a normal distribution, the data is symmetrically distributed around the mean. Therefore, the least frequent data in terms of its position appears at the tails of the distribution, farthest away from the mean.\n",
    "\n",
    "Specifically, in a normal distribution:\n",
    "\n",
    "The most frequent data points are located near the mean.\n",
    "As you move away from the mean towards the tails of the distribution, the frequency of data points decreases.\n",
    "The tails of a normal distribution represent the extreme values. These values are relatively less likely to occur compared to the values near the mean. The frequency of data points gradually decreases as you move away from the mean in either direction."
   ]
  },
  {
   "cell_type": "code",
   "execution_count": null,
   "id": "577278b2-70c9-4313-8326-c9237adcd69c",
   "metadata": {},
   "outputs": [],
   "source": []
  }
 ],
 "metadata": {
  "kernelspec": {
   "display_name": "Python 3 (ipykernel)",
   "language": "python",
   "name": "python3"
  },
  "language_info": {
   "codemirror_mode": {
    "name": "ipython",
    "version": 3
   },
   "file_extension": ".py",
   "mimetype": "text/x-python",
   "name": "python",
   "nbconvert_exporter": "python",
   "pygments_lexer": "ipython3",
   "version": "3.10.8"
  }
 },
 "nbformat": 4,
 "nbformat_minor": 5
}
